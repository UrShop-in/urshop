{
 "cells": [
  {
   "cell_type": "code",
   "execution_count": 3,
   "metadata": {},
   "outputs": [],
   "source": [
    "import mysql.connector\n",
    "import config\n",
    "\n",
    "mydb = mysql.connector.connect(\n",
    "\thost=\"localhost\",\n",
    "\tuser=config.user,\n",
    "\tpasswd=config.passwd,\n",
    "\tdatabase=\"UrShop\"\n",
    ")\n",
    "cursor=mydb.cursor(buffered=True)"
   ]
  },
  {
   "cell_type": "code",
   "execution_count": 2,
   "metadata": {
    "collapsed": true
   },
   "outputs": [
    {
     "ename": "NameError",
     "evalue": "name 'path' is not defined",
     "output_type": "error",
     "traceback": [
      "\u001b[0;31m---------------------------------------------------------------------------\u001b[0m",
      "\u001b[0;31mNameError\u001b[0m                                 Traceback (most recent call last)",
      "\u001b[0;32m<ipython-input-2-49a1983139f4>\u001b[0m in \u001b[0;36m<module>\u001b[0;34m\u001b[0m\n\u001b[1;32m      1\u001b[0m \u001b[0;32mimport\u001b[0m \u001b[0mpandas\u001b[0m \u001b[0;32mas\u001b[0m \u001b[0mpd\u001b[0m\u001b[0;34m\u001b[0m\u001b[0;34m\u001b[0m\u001b[0m\n\u001b[0;32m----> 2\u001b[0;31m \u001b[0mdata\u001b[0m\u001b[0;34m=\u001b[0m \u001b[0mpd\u001b[0m\u001b[0;34m.\u001b[0m\u001b[0mread_csv\u001b[0m\u001b[0;34m(\u001b[0m\u001b[0;34mr\"\"\u001b[0m\u001b[0;34m+\u001b[0m\u001b[0mpath\u001b[0m\u001b[0;34m)\u001b[0m\u001b[0;34m\u001b[0m\u001b[0;34m\u001b[0m\u001b[0m\n\u001b[0m",
      "\u001b[0;31mNameError\u001b[0m: name 'path' is not defined"
     ]
    }
   ],
   "source": [
    "import pandas as pd\n",
    "data= pd.read_csv(r\"\"+path)"
   ]
  },
  {
   "cell_type": "markdown",
   "metadata": {},
   "source": [
    "checks for new user\n",
    "number:- 10 digit mob number\n",
    "\n",
    "return :\n",
    "\n",
    "404 : if user not found\n",
    "name of the user :- if found"
   ]
  },
  {
   "cell_type": "code",
   "execution_count": 90,
   "metadata": {},
   "outputs": [],
   "source": [
    "def check_user(number):\n",
    "    sql=\"SELECT name,user_id FROM user WHERE mob=\\\"\"+str(number)+\"\\\"\"\n",
    "    cursor.execute(sql)\n",
    "    result=cursor.fetchone()\n",
    "    if( result != None ):\n",
    "        return result\n",
    "    else:\n",
    "        return \"404\""
   ]
  },
  {
   "cell_type": "code",
   "execution_count": 91,
   "metadata": {
    "collapsed": true
   },
   "outputs": [
    {
     "data": {
      "text/plain": [
       "('Aryan', 'UKA0001')"
      ]
     },
     "execution_count": 91,
     "metadata": {},
     "output_type": "execute_result"
    }
   ],
   "source": [
    "check_user(8382930122)"
   ]
  },
  {
   "cell_type": "markdown",
   "metadata": {},
   "source": [
    "to check the types of client in an area\n",
    "\n",
    "returns :\n",
    "    GEN : General Store\n",
    "    GRO : Grocery Store\n",
    "    PHA : Pharmacy Store\n",
    "    STA : Stationary Store"
   ]
  },
  {
   "cell_type": "code",
   "execution_count": 10,
   "metadata": {},
   "outputs": [],
   "source": [
    "def client_type(pincode):\n",
    "    sql=\"SELECT type FROM client WHERE pincode=\"+str(pincode)\n",
    "    cursor.execute(sql)\n",
    "    result=cursor.fetchall()\n",
    "    return to_list(result)"
   ]
  },
  {
   "cell_type": "markdown",
   "metadata": {},
   "source": [
    "client_name : returns name of the clients available in a pincode \n",
    "\n",
    "client_id : return id's of the clients available in the pincode\n",
    "\n",
    "will be neede to execute at same time as the client id is only our reference "
   ]
  },
  {
   "cell_type": "code",
   "execution_count": 61,
   "metadata": {},
   "outputs": [],
   "source": [
    "def client_name(type, pincode):\n",
    "    sql=\"SELECT name FROM client WHERE pincode=\"+str(pincode)+\" AND type=\\\"\"+str(type)+\"\\\"\"\n",
    "    cursor.execute(sql)\n",
    "    result=cursor.fetchall()\n",
    "    return to_list(result)    \n",
    "\n",
    "def client_id(type , pincode):\n",
    "    sql=\"SELECT client_id FROM client WHERE pincode=\"+str(pincode)+\" AND type=\\\"\"+str(type)+\"\\\"\"\n",
    "    cursor.execute(sql)\n",
    "    result=cursor.fetchall()\n",
    "    return to_list(result)    "
   ]
  },
  {
   "cell_type": "markdown",
   "metadata": {},
   "source": [
    "will block the quantity in the inventory and also\n",
    "will create a dump order until the payment is confirmed"
   ]
  },
  {
   "cell_type": "code",
   "execution_count": 86,
   "metadata": {},
   "outputs": [],
   "source": [
    "def dump_order(client_id , items , quantity):\n",
    "    stock=[]\n",
    "    for s in get_sku(items):\n",
    "        sql=\"SELECT in_stock,sold_stock FROM  \"+str(clientid)+\" WHERE sku=\"+str(s)\n",
    "        cursor.execute(sql)\n",
    "        result=cursor.fetchone()\n",
    "        stock.append(result)\n",
    "\n",
    "    updated_stock=[]\n",
    "    for count,each in enumerate(stock):\n",
    "        update=list(each)\n",
    "        update[0]=update[0]-quantity[count]\n",
    "        update[1]=update[1]+quantity[count]\n",
    "        updated_stock.append(tuple(update))\n",
    "\n",
    "    for count,sku in enumerate(get_sku(items)):\n",
    "        sql=\"UPDATE \"+str(clientid)+\" SET in_stock=%s ,sold_stock=%s WHERE sku=%s\"\n",
    "        sql_list=list(updated_stock[count])\n",
    "        sql_list.append(sku)\n",
    "        val=tuple(sql_list)\n",
    "        cursor.execute(sql , val)\n",
    "        mydb.commit()   \n",
    "    "
   ]
  },
  {
   "cell_type": "markdown",
   "metadata": {},
   "source": [
    "will re-update the items if the payment fails"
   ]
  },
  {
   "cell_type": "code",
   "execution_count": 87,
   "metadata": {},
   "outputs": [],
   "source": [
    "def re_update(clientid,items,quantity):\n",
    "\tstock=[]\n",
    "\tfor s in get_sku(items):\n",
    "\t\tsql=\"SELECT in_stock FROM \"+str(clientid)+\" WHERE sku=\"+str(s)\n",
    "\t\tcursor.execute(sql)\n",
    "\t\tresult=cursor.fetchone()\n",
    "\t\tstock.append(result)\n",
    "\n",
    "\tupdated_stock=[]\n",
    "\tfor count,each in enumerate(stock):\n",
    "\t\tupdate=list(each)\n",
    "\t\tupdate[0]=update[0]+quantity[count]\n",
    "\t\tupdated_stock.append(tuple(update))\n",
    "\n",
    "\tfor count,sku in enumerate(get_sku(items)):\n",
    "\t\tsql=\"UPDATE \"+str(clientid)+\" SET in_stock=%s WHERE sku=%s\"\n",
    "\t\tsql_list=list(updated_stock[count])\n",
    "\t\tsql_list.append(sku)\n",
    "\t\tval=tuple(sql_list)\n",
    "\t\tcursor.execute(sql , val)\n",
    "\t\tmydb.commit()"
   ]
  },
  {
   "cell_type": "code",
   "execution_count": 76,
   "metadata": {},
   "outputs": [],
   "source": [
    "def add_client(clientid):\n",
    "\tsql=\"CREATE TABLE \"+str(clientid)+\"(sku INT NOT NULL PRIMARY KEY,in_stock INT NOT NULL ,alarm INT NOT NULL ,sold_stock INT NOT NULL )\"\n",
    "\tcursor.execute(sql)"
   ]
  },
  {
   "cell_type": "markdown",
   "metadata": {},
   "source": [
    "insert items into inventory of specific client\n",
    "\n",
    "PARAMETERS:-\n",
    "\n",
    "client_id :- ID OF THE CLIENT\n",
    "path_to_csv :- csv files with [sku,instock,alarm,sold_stock]"
   ]
  },
  {
   "cell_type": "code",
   "execution_count": 77,
   "metadata": {},
   "outputs": [],
   "source": [
    "import pandas as pd\n",
    "def add_in_bulk(client_id , path_to_csv):\n",
    "    data= pd.read_csv(r\"\"+path_to_csv)\n",
    "    sql=\"INSERT INTO \"+str(client_id)+\"(sku, in_stock , alarm , sold_stock) VALUES(%s , %s , %s , %s)\"\n",
    "    for row in data.itertuples():\n",
    "        val=(row.sku , row.in_stock , row.alarm , row.sold_stock)\n",
    "        cursor.execute(sql , val)    \n",
    "        mydb.commit()      "
   ]
  },
  {
   "cell_type": "markdown",
   "metadata": {},
   "source": [
    "get sku of items :-\n",
    "\n",
    "items :- accept list of items"
   ]
  },
  {
   "cell_type": "code",
   "execution_count": 82,
   "metadata": {
    "collapsed": true
   },
   "outputs": [
    {
     "data": {
      "text/plain": [
       "[21, 22, 26]"
      ]
     },
     "execution_count": 82,
     "metadata": {},
     "output_type": "execute_result"
    }
   ],
   "source": [
    "def get_sku(items):\n",
    "    sku=[]\n",
    "    for item in items:\n",
    "        sql=\"SELECT sku FROM items WHERE name=' \"+item+\"'\"\n",
    "        cursor.execute(sql)\n",
    "        result=cursor.fetchone()\n",
    "        sku.append(result[0])\n",
    "    return sku\n",
    "\n",
    "get_sku(['mushrooms' , 'rice' , 'butter'])"
   ]
  },
  {
   "cell_type": "markdown",
   "metadata": {},
   "source": [
    "get stock of a certain client\n",
    "\n",
    "client_id :- ID OF THE CLIENT\n",
    "items:- LIST OF ITEMS"
   ]
  },
  {
   "cell_type": "code",
   "execution_count": null,
   "metadata": {},
   "outputs": [],
   "source": [
    "def get_sku(items):\n",
    "    sku=[]\n",
    "    for item in items:\n",
    "        sql=\"SELECT sku FROM items WHERE item_name=' \"+item+\"'\"\n",
    "        cursor.execute(sql)\n",
    "        result=cursor.fetchone()\n",
    "        sku.append(result[0])\n",
    "    return sku\n",
    "\n",
    "def get_stock(clientid,items):\n",
    "\tstock=[]\n",
    "\tfor s in get_sku(items):\n",
    "\t\tsql=\"SELECT in_stock,sold_stock , alarm FROM \"+str(clientid)+\" WHERE sku=\"+str(s)\n",
    "\t\tcursor.execute(sql)\n",
    "\t\tresult=cursor.fetchone()\n",
    "\t\tstock.append(result)\n",
    "\treturn stock"
   ]
  },
  {
   "cell_type": "markdown",
   "metadata": {},
   "source": [
    "inventory to be updated after each order :-\n",
    "\n",
    "client_id :- ID OF THE CLIENT\n",
    "items :- LIST OF THE ITEMS\n",
    "quantity :- LIST OF THE QUANTITY OF ITEMS"
   ]
  },
  {
   "cell_type": "code",
   "execution_count": 78,
   "metadata": {},
   "outputs": [],
   "source": [
    "def out_stock_update(clientid,items,quantity):\n",
    "    stock=[]\n",
    "    for s in get_sku(items):\n",
    "        sql=\"SELECT in_stock,sold_stock FROM  \"+str(clientid)+\" WHERE sku=\"+str(s)\n",
    "        cursor.execute(sql)\n",
    "        result=cursor.fetchone()\n",
    "        stock.append(result)\n",
    "\n",
    "    updated_stock=[]\n",
    "    for count,each in enumerate(stock):\n",
    "        update=list(each)\n",
    "        update[0]=update[0]-quantity[count]\n",
    "        update[1]=update[1]+quantity[count]\n",
    "        updated_stock.append(tuple(update))\n",
    "\n",
    "    for count,sku in enumerate(get_sku(items)):\n",
    "        sql=\"UPDATE \"+str(clientid)+\" SET in_stock=%s ,sold_stock=%s WHERE sku=%s\"\n",
    "        sql_list=list(updated_stock[count])\n",
    "        sql_list.append(sku)\n",
    "        val=tuple(sql_list)\n",
    "        cursor.execute(sql , val)\n",
    "        mydb.commit()"
   ]
  },
  {
   "cell_type": "code",
   "execution_count": 80,
   "metadata": {},
   "outputs": [],
   "source": [
    "out_stock_update(\"CAG0001\" , ['mushrooms' , 'rice' , 'butter'] , [1,1,1])"
   ]
  },
  {
   "cell_type": "markdown",
   "metadata": {},
   "source": [
    "to be updated for specific items in client\n",
    "\n",
    "client_id :- ID OF THE CLIENT\n",
    "items :- LIST OF THE ITEMS\n",
    "quantity :- LIST OF THE QUANTITY OF ITEMS"
   ]
  },
  {
   "cell_type": "code",
   "execution_count": null,
   "metadata": {},
   "outputs": [],
   "source": [
    "def in_stock_update(clientid,items,quantity):\n",
    "\tstock=[]\n",
    "\tfor s in get_sku(items):\n",
    "\t\tsql=\"SELECT in_stock FROM \"+str(clientid)+\" WHERE sku=\"+str(s)\n",
    "\t\tcursor.execute(sql)\n",
    "\t\tresult=cursor.fetchone()\n",
    "\t\tstock.append(result)\n",
    "\n",
    "\tupdated_stock=[]\n",
    "\tfor count,each in enumerate(stock):\n",
    "\t\tupdate=list(each)\n",
    "\t\tupdate[0]=update[0]+quantity[count]\n",
    "\t\tupdated_stock.append(tuple(update))\n",
    "\n",
    "\tfor count,sku in enumerate(get_sku(items)):\n",
    "\t\tsql=\"UPDATE \"+str(clientid)+\" SET in_stock=%s WHERE sku=%s\"\n",
    "\t\tsql_list=list(updated_stock[count])\n",
    "\t\tsql_list.append(sku)\n",
    "\t\tval=tuple(sql_list)\n",
    "\t\tcursor.execute(sql , val)\n",
    "\t\tmydb.commit()"
   ]
  },
  {
   "cell_type": "markdown",
   "metadata": {},
   "source": [
    "to insert into master item list"
   ]
  },
  {
   "cell_type": "code",
   "execution_count": null,
   "metadata": {},
   "outputs": [],
   "source": [
    "import pandas as pd\n",
    "def add_in_bulk(path_to_csv):\n",
    "    data= pd.read_csv(r\"\"+path_to_csv)\n",
    "    sql=\"INSERT INTO items(sku, name) VALUES(%s , %s)\"\n",
    "    for row in data.itertuples():\n",
    "        val=(row.sku , row.item)\n",
    "        cursor.execute(sql , val)\n",
    "        mydb.commit()"
   ]
  },
  {
   "cell_type": "markdown",
   "metadata": {},
   "source": [
    "to add new clients"
   ]
  },
  {
   "cell_type": "code",
   "execution_count": null,
   "metadata": {},
   "outputs": [],
   "source": [
    "import pandas as pd\n",
    "def add_in_bulk(path_to_csv):\n",
    "    data= pd.read_csv(r\"\"+path_to_csv)\n",
    "    sql=\"INSERT INTO client(client_id,name,address,mob,alternate_mob,pincode,type,open_hour,close_hour) VALUES(%s , %s , %s , %s,%s , %s , %s , %s,%s)\"\n",
    "    for row in data.itertuples():\n",
    "        val=(row.client_id , row.name , row.address , row.mob , row.alternate_mob ,row.pincode , row.type ,row.open_hour, row.close_hour)\n",
    "        cursor.execute(sql , val)    \n",
    "        mydb.commit()"
   ]
  },
  {
   "cell_type": "markdown",
   "metadata": {},
   "source": [
    "to add new users"
   ]
  },
  {
   "cell_type": "code",
   "execution_count": null,
   "metadata": {},
   "outputs": [],
   "source": [
    "import pandas as pd\n",
    "def add_in_bulk(path_to_csv)\n",
    "    data= pd.read_csv(r\"\"+path_to_csv)\n",
    "    sql=\"INSERT INTO user(user_id,name,address,mob,pincode) VALUES(%s , %s , %s , %s,%s)\"\n",
    "    for row in data.itertuples():\n",
    "        val=(row.user_id , row.name , row.address , row.mob ,row.pincode)\n",
    "        cursor.execute(sql , val)    \n",
    "        mydb.commit()"
   ]
  },
  {
   "cell_type": "markdown",
   "metadata": {},
   "source": [
    "to add new agent"
   ]
  },
  {
   "cell_type": "code",
   "execution_count": null,
   "metadata": {},
   "outputs": [],
   "source": [
    "import pandas as pd\n",
    "def add_in_bulk(path_to_csv)\n",
    "    data= pd.read_csv(r\"\"+path_to_csv)\n",
    "    sql=\"INSERT INTO agent(agent_id,name,address,mob,alternate_mob,pincode) VALUES(%s , %s , %s , %s,%s,%s)\"\n",
    "    for row in data.itertuples():\n",
    "        val=(row.agent_id , row.name , row.address , row.mob,row.alternate_mob ,row.pincode)\n",
    "        cursor.execute(sql , val)    \n",
    "        mydb.commit()"
   ]
  },
  {
   "cell_type": "markdown",
   "metadata": {},
   "source": [
    "helper"
   ]
  },
  {
   "cell_type": "code",
   "execution_count": 6,
   "metadata": {},
   "outputs": [],
   "source": [
    "def to_list(in_list):\n",
    "    out_list=[]\n",
    "    for type in in_list:\n",
    "        out_list.append(type[0])\n",
    "    return out_list        "
   ]
  },
  {
   "cell_type": "markdown",
   "metadata": {},
   "source": [
    "to get tpye of clients in particular area"
   ]
  },
  {
   "cell_type": "code",
   "execution_count": 83,
   "metadata": {},
   "outputs": [
    {
     "data": {
      "text/plain": [
       "['GRO']"
      ]
     },
     "execution_count": 83,
     "metadata": {},
     "output_type": "execute_result"
    }
   ],
   "source": [
    "client_type(400052)"
   ]
  },
  {
   "cell_type": "code",
   "execution_count": 84,
   "metadata": {},
   "outputs": [
    {
     "data": {
      "text/plain": [
       "['CAG0001']"
      ]
     },
     "execution_count": 84,
     "metadata": {},
     "output_type": "execute_result"
    }
   ],
   "source": [
    "client_id(\"GEN\",208011)"
   ]
  },
  {
   "cell_type": "code",
   "execution_count": 45,
   "metadata": {
    "collapsed": true
   },
   "outputs": [
    {
     "data": {
      "text/plain": [
       "'Sathya'"
      ]
     },
     "execution_count": 45,
     "metadata": {},
     "output_type": "execute_result"
    }
   ],
   "source": [
    "check_user(7904627765)"
   ]
  },
  {
   "cell_type": "code",
   "execution_count": 69,
   "metadata": {},
   "outputs": [],
   "source": [
    "def get_sku(items):\n",
    "    sku=[]\n",
    "    for item in items:\n",
    "        sql=\"SELECT sku FROM items WHERE name=' \"+item+\"'\"\n",
    "        cursor.execute(sql)\n",
    "        result=cursor.fetchone()\n",
    "        sku.append(result[0])\n",
    "    return sku\n",
    "\n",
    "def get_stock(clientid,items):\n",
    "    stock=[]\n",
    "    for s in get_sku(items):\n",
    "        sql=\"SELECT in_stock,sold_stock , alarm FROM \"+str(clientid)+\" WHERE sku=\"+str(s)\n",
    "        cursor.execute(sql)\n",
    "        result=cursor.fetchone()\n",
    "        stock.append(result)\n",
    "    return stock"
   ]
  },
  {
   "cell_type": "code",
   "execution_count": 71,
   "metadata": {
    "collapsed": true
   },
   "outputs": [
    {
     "data": {
      "text/plain": [
       "[(257, 0, 20), (32, 0, 10), (11, 0, 3)]"
      ]
     },
     "execution_count": 71,
     "metadata": {},
     "output_type": "execute_result"
    }
   ],
   "source": [
    "get_stock(\"CAA0001\",items=['mushrooms' , 'rice' , 'butter'])"
   ]
  },
  {
   "cell_type": "code",
   "execution_count": 113,
   "metadata": {},
   "outputs": [],
   "source": [
    "import datetime\n",
    "now = datetime.datetime.now()\n",
    "time=now.strftime(\"%H:%M:%S\")\n",
    "date=now.strftime(\"%Y-%m-%d\")"
   ]
  },
  {
   "cell_type": "code",
   "execution_count": null,
   "metadata": {},
   "outputs": [],
   "source": []
  }
 ],
 "metadata": {
  "kernelspec": {
   "display_name": "Python 3",
   "language": "python",
   "name": "python3"
  },
  "language_info": {
   "codemirror_mode": {
    "name": "ipython",
    "version": 3
   },
   "file_extension": ".py",
   "mimetype": "text/x-python",
   "name": "python",
   "nbconvert_exporter": "python",
   "pygments_lexer": "ipython3",
   "version": "3.8.3"
  }
 },
 "nbformat": 4,
 "nbformat_minor": 4
}
